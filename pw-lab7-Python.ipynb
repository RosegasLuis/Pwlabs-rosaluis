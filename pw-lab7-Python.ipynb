{
 "cells": [
  {
   "attachments": {},
   "cell_type": "markdown",
   "metadata": {},
   "source": [
    "**UNIVERSIDADE LUSÓFONA**\n",
    "\n",
    "# Programação Web -  Lab. 7: Python\n",
    "\n",
    "* Estes exercícios estão reidgidos em forma de tutorial para aprender e exercitar conceitos chave do Python. \n",
    "* Consulte os slides se tiver dúvidas. Estes contêm toda a matéria necessária para realizar estes exercícios.\n",
    "* Consulte os [video-tutoriais](https://educast.fccn.pt/vod/channels/1fzfn2fjbd?locale=en) curtos que explicam conceitos específicos do Python.\n",
    "\n",
    "\n",
    "# 1 Listas de números\n",
    "Considere a seguinte lista (execute a linha de código seguinte para que a lista fique definida no Jupyter)"
   ]
  },
  {
   "cell_type": "code",
   "execution_count": 1,
   "metadata": {},
   "outputs": [],
   "source": [
    "lista = [1, 4, 6, 22, 4, 7, 13, 12, 2, 3, 5]"
   ]
  },
  {
   "cell_type": "code",
   "execution_count": 2,
   "metadata": {},
   "outputs": [
    {
     "name": "stdout",
     "output_type": "stream",
     "text": [
      "1\n"
     ]
    }
   ],
   "source": [
    "print(lista[0])"
   ]
  },
  {
   "cell_type": "markdown",
   "metadata": {},
   "source": [
    "Lembre-se que existe:\n",
    "* uma indexação que vai da esquerda para a direita e começa no 0, \n",
    "* uma indexação que vai da direita para a esquerda e começa no -1  \n",
    "\n",
    "\n",
    "\n",
    "1.1 imprima o numero que está na posição de indice 2"
   ]
  },
  {
   "cell_type": "code",
   "execution_count": 7,
   "metadata": {},
   "outputs": [
    {
     "name": "stdout",
     "output_type": "stream",
     "text": [
      "6\n"
     ]
    }
   ],
   "source": [
    "lista = [1, 4, 6, 22, 4, 7, 13, 12, 2, 3, 5]\n",
    "\n",
    "print(lista[2])\n"
   ]
  },
  {
   "cell_type": "markdown",
   "metadata": {},
   "source": [
    "1.2 imprima o numero que está na penúltima posição da lista."
   ]
  },
  {
   "cell_type": "code",
   "execution_count": 6,
   "metadata": {},
   "outputs": [
    {
     "name": "stdout",
     "output_type": "stream",
     "text": [
      "3\n"
     ]
    }
   ],
   "source": [
    "lista = [1, 4, 6, 22, 4, 7, 13, 12, 2, 3, 5]\n",
    "\n",
    "print(lista[9])"
   ]
  },
  {
   "cell_type": "markdown",
   "metadata": {},
   "source": [
    "1.3 imprima todos os números desta lista separados por espaços (use o atributo `end` da função print). Lembre-se que com um ciclo for pode iterar diretamente pelos elementos da lista."
   ]
  },
  {
   "cell_type": "code",
   "execution_count": 11,
   "metadata": {},
   "outputs": [
    {
     "ename": "IndentationError",
     "evalue": "expected an indented block after 'for' statement on line 2 (1557017684.py, line 3)",
     "output_type": "error",
     "traceback": [
      "\u001b[1;36m  Cell \u001b[1;32mIn[11], line 3\u001b[1;36m\u001b[0m\n\u001b[1;33m    print(f\"{i,1,5}:{n}\")\u001b[0m\n\u001b[1;37m    ^\u001b[0m\n\u001b[1;31mIndentationError\u001b[0m\u001b[1;31m:\u001b[0m expected an indented block after 'for' statement on line 2\n"
     ]
    }
   ],
   "source": [
    "lista =[]\n",
    "for numero  in range(1, 4, 6, 22, 4, 7, 13, 12, 2, 3, 5):\n",
    "print(f\"{i,1,5}:{n}\")\n"
   ]
  },
  {
   "cell_type": "markdown",
   "metadata": {},
   "source": [
    "Criemos uma lista dos números de 20 a 30. Imprimamos a posição e valor de cada elemento da lista"
   ]
  },
  {
   "cell_type": "code",
   "execution_count": 8,
   "metadata": {},
   "outputs": [
    {
     "name": "stdout",
     "output_type": "stream",
     "text": [
      "posição 00: 20\n",
      "posição 01: 21\n",
      "posição 02: 22\n",
      "posição 03: 23\n",
      "posição 04: 24\n",
      "posição 05: 25\n",
      "posição 06: 26\n",
      "posição 07: 27\n",
      "posição 08: 28\n",
      "posição 09: 29\n",
      "posição 10: 30\n"
     ]
    }
   ],
   "source": [
    "lista_numeros = []  \n",
    "for numero in range(20, 30+1):   \n",
    "    lista_numeros.append(numero)\n",
    "    \n",
    "for i, n in enumerate(lista_numeros):   # enumerate retorna i índice e o valor 😀\n",
    "    print(f\"posição {i:02}: {n}\")   # 02 de {i:02} indica que o numero deve ocupar 2 casas, com 0 se não houver digito"
   ]
  },
  {
   "cell_type": "markdown",
   "metadata": {},
   "source": [
    "1.4. Faça um programa que some todos os números pares de `lista = [1, 4, 6, 22, 4, 7, 13, 12, 2, 3, 5]` e crie a lista pares, dos elementos pares da lista. imprima o resultado e a lista pares.\n",
    "\n",
    "Resultado esperado:\n",
    "```\n",
    "A soma dos numeros pares da lista é 50\n",
    "Lista dos números pares: [4, 6, 22, 4, 12, 2]\n",
    "```"
   ]
  },
  {
   "cell_type": "code",
   "execution_count": null,
   "metadata": {},
   "outputs": [],
   "source": [
    "lista = [1, 4, 6, 22, 4, 7, 13, 12, 2, 3, 5]\n",
    "\n"
   ]
  },
  {
   "cell_type": "markdown",
   "metadata": {},
   "source": [
    "1.5 Faça um programa que imprime o índice da posição e o valor de cada elemento de `lista`. Utilize a função `enumerate`.\n",
    "\n",
    "resultado esperado:\n",
    "```\n",
    "Na posição de indice 0 está o 1\n",
    "Na posição de indice 1 está o 4\n",
    "...\n",
    "```"
   ]
  },
  {
   "cell_type": "code",
   "execution_count": null,
   "metadata": {},
   "outputs": [],
   "source": []
  },
  {
   "cell_type": "markdown",
   "metadata": {},
   "source": [
    "Crie uma lista com os números de 1 a 10 usando uma compreensão"
   ]
  },
  {
   "cell_type": "code",
   "execution_count": null,
   "metadata": {},
   "outputs": [],
   "source": [
    "lista = [i for i in range(1,10+1)]  # isto é uma compreensão, uma forma \"pythoniana\" de criar uma lista 😉"
   ]
  },
  {
   "cell_type": "markdown",
   "metadata": {},
   "source": [
    "1.6 Crie uma lista com os números de 100 a 200 usando uma compreensão"
   ]
  },
  {
   "cell_type": "code",
   "execution_count": null,
   "metadata": {},
   "outputs": [],
   "source": []
  },
  {
   "cell_type": "markdown",
   "metadata": {},
   "source": [
    "1.7 Cria uma lista com os números pares de 100 a 140, inclusivé,  usando uma compreensão"
   ]
  },
  {
   "cell_type": "code",
   "execution_count": null,
   "metadata": {},
   "outputs": [],
   "source": []
  },
  {
   "cell_type": "markdown",
   "metadata": {},
   "source": [
    "1.8 Ordene a lista crescentemente com o método `sort`, e imprima-a. Deve fazer em duas instruções separadas, primeiro ordene, e depois imprima a lsta. "
   ]
  },
  {
   "cell_type": "code",
   "execution_count": null,
   "metadata": {},
   "outputs": [],
   "source": []
  },
  {
   "attachments": {},
   "cell_type": "markdown",
   "metadata": {},
   "source": [
    "1.9  \n",
    "* Faça uma função que pede ao utilizador um numero inteiro positivo. (Utilize o try except para garantir que não há erros por não inserir um inteiro). \n",
    "* Utilize a função para preencher uma lista apenas com os números que sejam pares.  \n",
    "* Ordene a lista de números, indique o maior, o menor, e o que ocorre mais vezes."
   ]
  },
  {
   "cell_type": "code",
   "execution_count": null,
   "metadata": {},
   "outputs": [],
   "source": []
  },
  {
   "cell_type": "markdown",
   "metadata": {},
   "source": [
    "# 2 Listas de strings\n",
    "\n",
    "Considere a seguinte lista: \n",
    "\n",
    "`nomes = [\"Maria\", \"Manuel\", \"Luis\", \"Augusta\", \"Zé\", \"Tolentino\", \"Ana\"]`\n",
    "\n",
    "\n",
    "\n",
    "2.1 Recorrendo a um ciclo e a formated strings, itere pelos vários nomes e imprima para cada nome uma frase do tipo:\n",
    "\n",
    "`Bom dia, Maria!`"
   ]
  },
  {
   "cell_type": "code",
   "execution_count": null,
   "metadata": {},
   "outputs": [],
   "source": []
  },
  {
   "cell_type": "markdown",
   "metadata": {},
   "source": [
    "2.2 Crie uma lista ordenada alfabeticamente com o método sort, e imprima-a.\n",
    "\n",
    "Resultado esperado: `['Ana', 'Augusta', 'Luis', 'Manuel', 'Maria', 'Tolentino', 'Zé']`"
   ]
  },
  {
   "cell_type": "code",
   "execution_count": null,
   "metadata": {},
   "outputs": [],
   "source": [
    "nomes = [\"Maria\", \"Manuel\", \"Luis\", \"Augusta\", \"Zé\", \"Tolentino\", \"Ana\"]\n",
    "\n",
    "# ordenação da lista alfabeticamente\n",
    "\n",
    "\n",
    "\n",
    "# Resultado esperado: ['Ana', 'Augusta', 'Luis', 'Manuel', 'Maria', 'Tolentino', 'Zé']"
   ]
  },
  {
   "cell_type": "markdown",
   "metadata": {},
   "source": [
    "2.3 Crie uma lista ordenada pelo número de carateres, de forma decrescente, e imprima-a. Use o atributo key e um lambda, tal como foi feito na aula.\n",
    "\n",
    "Resultado esperado: `['Tolentino', 'Augusta', 'Manuel', 'Maria', 'Luis', 'Ana', 'Zé']`"
   ]
  },
  {
   "cell_type": "code",
   "execution_count": null,
   "metadata": {},
   "outputs": [],
   "source": []
  },
  {
   "cell_type": "markdown",
   "metadata": {},
   "source": [
    "2.4 Crie, com um ciclo for, uma nova lista com a primeira letra de cada nome. Imprima-a (pode fazer diretamente `print(list)`)\n",
    "\n",
    "Resultado esperado: `['M', 'M', 'L', 'A', 'Z', 'T', 'A']`"
   ]
  },
  {
   "cell_type": "code",
   "execution_count": null,
   "metadata": {},
   "outputs": [],
   "source": []
  },
  {
   "cell_type": "markdown",
   "metadata": {},
   "source": [
    "2.5 Usando a lista `nomes`, crie com uma compreensão uma nova lista que guarda a primeira letra de cada nome."
   ]
  },
  {
   "cell_type": "code",
   "execution_count": null,
   "metadata": {},
   "outputs": [],
   "source": []
  },
  {
   "attachments": {},
   "cell_type": "markdown",
   "metadata": {},
   "source": [
    "2.6 Crie a lista `ladies` que itera pela lista `nomes` e guarda apenas os nomes terminados em \"a\".\n",
    "\n",
    "\n",
    "Resultado esperado: `['Maria', 'Augusta', 'Ana']`"
   ]
  },
  {
   "cell_type": "code",
   "execution_count": null,
   "metadata": {},
   "outputs": [],
   "source": []
  },
  {
   "cell_type": "markdown",
   "metadata": {},
   "source": [
    "2.7 Crie a lista `ladies` que guarda os nomes terminados em \"a\", usando uma compreensão"
   ]
  },
  {
   "cell_type": "code",
   "execution_count": null,
   "metadata": {},
   "outputs": [],
   "source": []
  },
  {
   "attachments": {},
   "cell_type": "markdown",
   "metadata": {},
   "source": [
    "# 3 Processamento de listas com strings"
   ]
  },
  {
   "cell_type": "markdown",
   "metadata": {},
   "source": [
    "### Relembrando...\n",
    "\n",
    "No processamento de strings, dois métodos são muito úteis, split e find:"
   ]
  },
  {
   "cell_type": "code",
   "execution_count": 17,
   "metadata": {},
   "outputs": [
    {
     "data": {
      "text/plain": [
       "['Pedro Tamen', '1/1/1934']"
      ]
     },
     "execution_count": 17,
     "metadata": {},
     "output_type": "execute_result"
    }
   ],
   "source": [
    "\"Pedro Tamen, 1/1/1934\".split(', ')  # retorna uma lista de elementos separados por ', '"
   ]
  },
  {
   "cell_type": "code",
   "execution_count": 18,
   "metadata": {
    "scrolled": true
   },
   "outputs": [
    {
     "data": {
      "text/plain": [
       "'Pedro Tamen'"
      ]
     },
     "execution_count": 18,
     "metadata": {},
     "output_type": "execute_result"
    }
   ],
   "source": [
    "\"Pedro Tamen, 1/1/1934\".split(',')[0]  # podemos aceder ao primeiro elemento da lista, o nome completo"
   ]
  },
  {
   "cell_type": "code",
   "execution_count": null,
   "metadata": {},
   "outputs": [
    {
     "data": {
      "text/plain": [
       "'Tamen'"
      ]
     },
     "execution_count": 28,
     "metadata": {},
     "output_type": "execute_result"
    }
   ],
   "source": [
    "# extraia o apelido da variável em baixo\n",
    "\n",
    "nome = \"Pedro Tamen, 1/1/1934\"\n",
    "nome.split()[1][:-1]"
   ]
  },
  {
   "cell_type": "markdown",
   "metadata": {},
   "source": [
    "As compreensões também são formas simples de transformar uma lista. Por exemplo, criemos a lista com a primeira letra de cada pessoa: "
   ]
  },
  {
   "cell_type": "code",
   "execution_count": 29,
   "metadata": {},
   "outputs": [
    {
     "name": "stdout",
     "output_type": "stream",
     "text": [
      "['P', 'A', 'C', 'A', 'I', 'A', 'A', 'R', 'M', 'M', 'L', 'M', 'L', 'T', 'A', 'J', 'C', 'L', 'M', 'F', 'H', 'F']\n"
     ]
    }
   ],
   "source": [
    "letras = [info[0] for info in dados]\n",
    "print(letras)"
   ]
  },
  {
   "cell_type": "markdown",
   "metadata": {},
   "source": [
    "### Exercicios \n",
    "Considere a seguinte lista de strings:"
   ]
  },
  {
   "cell_type": "code",
   "execution_count": 18,
   "metadata": {},
   "outputs": [],
   "source": [
    "dados = [\n",
    "    \"Pedro Tamen, 1/1/1934\", \n",
    "    \"Almeida Garrett, 4/2/1799\",\n",
    "    \"Camilo Pessanha, 7/9/1867\",\n",
    "    \"Almada Negreiros, 7/5/1893\",\n",
    "    \"Ibn Bassam, 21/11/1058\",\n",
    "    \"Antonio Aleixo, 18/2/1899\",\n",
    "    \"Agustina Bessa-Luís, 15/10/1922\",\n",
    "    \"Ricardo Reis, 19/9/1887\",\n",
    "    \"Mario Sá-Carneiro, 19/5/1890\",\n",
    "    \"Mario Cesariny, 9/9/1923\",\n",
    "    \"Luis Camões, 10/6/1524\",\n",
    "    \"Miguel Torga, 12/8/1907\",\n",
    "    \"Lidia Jorge, 18/10/1946\",\n",
    "    \"Natália Correia, 12/9/1923\",\n",
    "    \"Tolentino Mendonça, 15/12/1965\",\n",
    "    \"Alberto Caeiro, 16/5/1889\",\n",
    "    \"Jose Saramago, 16/11/1922\",\n",
    "    \"Cesario Verde, 25/2/1855\",\n",
    "    \"Luiz Pacheco, 7/5/1925\",\n",
    "    \"Manuel Alegre, 12/5/1936\",\n",
    "    \"Fernando Pessoa, 13/6/1888\",\n",
    "    \"Herberto Helder, 23/11/1930\",\n",
    "    \"Florbela Espanca, 8/12/1894\"\n",
    "]"
   ]
  },
  {
   "cell_type": "markdown",
   "metadata": {},
   "source": [
    "3.1 Crie, com um ciclo for, uma lista de strings, onde cada string tem o nome e apelido de cada pessoa. Utilize por exemplo o método split.\n",
    "\n",
    "   * Exemplo de excerto da lista: `nomes = [\"Pedro Tamen\", \"Almeida Garrett\", ...]` "
   ]
  },
  {
   "cell_type": "code",
   "execution_count": null,
   "metadata": {},
   "outputs": [],
   "source": []
  },
  {
   "cell_type": "markdown",
   "metadata": {},
   "source": [
    "3.2 Crie uma lista de strings, onde cada string tem a primeira letra (abreviatura) do nome e o apelido de cada pessoa. Tende depois utilizar uma compreensão.\n",
    "\n",
    "   * Exemplo de excerto da lista:  `nomes = [\"P.Tamen\", \"A.Garrett\", ...]` "
   ]
  },
  {
   "cell_type": "code",
   "execution_count": null,
   "metadata": {},
   "outputs": [],
   "source": []
  },
  {
   "cell_type": "markdown",
   "metadata": {},
   "source": [
    "3.3 Ordene a lista pelo apelido\n",
    "\n",
    "Resultado esperado: `['M.Alegre', 'A.Aleixo', 'I.Bassam', 'A.Bessa-Luís', ...`"
   ]
  },
  {
   "cell_type": "code",
   "execution_count": null,
   "metadata": {},
   "outputs": [],
   "source": []
  },
  {
   "attachments": {},
   "cell_type": "markdown",
   "metadata": {},
   "source": [
    "# 4. *Package*\n",
    "\n",
    "Veja o [vídeo](https://educast.fccn.pt/vod/clips/9i4hoej6f/desktop.mp4?locale=en) de 1'30\" que exemplifica como criar um package no Jupyter, constituido por uma pasta e módulos Python (ficheiros com extensão .py). Relembre que um Jupyter tem extensão .ipynb.\n",
    "\n",
    "Crie um *package* **pacote** com dois módulos:\n",
    "* processamento.py, com as seguintes funções:\n",
    "   * positivo(n), que recebe um numero e retorna True se for positivo, caso contrário retorna False\n",
    "   * par(n), que recebe um numero e retorna True se for par, caso contrário retorna False\n",
    "   * primo(n), que recebe retorna True se o número for um primo, caso contrário retorna False\n",
    "* in_out.py, com as seguintes funções:\n",
    "   * ler_numero(), que pede ao utilizador para inserir um inteiro. Enquanto não seja inserido um inteiro, deverá voltar a pedir.\n",
    "   * imprime_resultados(n, positivo, par), que imprime uma frase usando os argumentos (n: numero inserido, positivo: variável booleana que indica se é positivo, par: variável booleana que indica se é par)\n",
    "   * menu(), que apresenta ao utilizador um menu com opções disponíveis  \n",
    "Importe o *package* **pacote** e escreva um programa que utilize todas as funções definidas."
   ]
  },
  {
   "cell_type": "code",
   "execution_count": null,
   "metadata": {},
   "outputs": [],
   "source": []
  },
  {
   "cell_type": "code",
   "execution_count": null,
   "metadata": {},
   "outputs": [],
   "source": []
  }
 ],
 "metadata": {
  "kernelspec": {
   "display_name": "Python 3",
   "language": "python",
   "name": "python3"
  },
  "language_info": {
   "codemirror_mode": {
    "name": "ipython",
    "version": 3
   },
   "file_extension": ".py",
   "mimetype": "text/x-python",
   "name": "python",
   "nbconvert_exporter": "python",
   "pygments_lexer": "ipython3",
   "version": "3.11.3"
  }
 },
 "nbformat": 4,
 "nbformat_minor": 4
}
